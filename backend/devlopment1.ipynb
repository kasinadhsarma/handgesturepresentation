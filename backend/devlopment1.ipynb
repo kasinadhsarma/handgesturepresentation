{
  "cells": [
    {
      "cell_type": "markdown",
      "metadata": {
        "id": "XQ1xJhTCMnHw"
      },
      "source": [
        "# Install required libraries in Colab"
      ]
    },
    {
      "cell_type": "code",
      "execution_count": null,
      "metadata": {
        "id": "_QDaRJ4vMqTc"
      },
      "outputs": [],
      "source": [
        "!pip install gdown datasets --quiet"
      ]
    },
    {
      "cell_type": "code",
      "execution_count": null,
      "metadata": {
        "id": "qXWGaIFiMr3i"
      },
      "outputs": [],
      "source": [
        "import os\n",
        "import cv2\n",
        "import numpy as np\n",
        "import pandas as pd\n",
        "import zipfile\n",
        "import gdown\n",
        "from sklearn.model_selection import train_test_split\n",
        "import torch\n",
        "import torch.nn as nn\n",
        "import torch.optim as optim\n",
        "import torchvision.transforms as transforms\n",
        "from torch.utils.data import Dataset, DataLoader\n",
        "import matplotlib.pyplot as plt\n",
        "import json\n",
        "import requests\n",
        "from google.colab import files"
      ]
    },
    {
      "cell_type": "markdown",
      "metadata": {
        "id": "XWFo06-YM5f1"
      },
      "source": [
        "# 1. Download 11k Hands dataset"
      ]
    },
    {
      "cell_type": "code",
      "execution_count": null,
      "metadata": {
        "colab": {
          "base_uri": "https://localhost:8080/",
          "height": 142
        },
        "id": "_VN4P2WnM53E",
        "outputId": "1b5c38ee-b85c-4ce3-a2f2-40e01ae4c6e0"
      },
      "outputs": [],
      "source": [
        "url_11k_images = \"https://drive.google.com/uc?id=1KcMYcNJgtK1zZvfl_9sTqnyBUTri2aP2\"\n",
        "output_11k_images = \"11k_hands.zip\"\n",
        "gdown.download(url_11k_images, output_11k_images, quiet=False)"
      ]
    },
    {
      "cell_type": "code",
      "execution_count": null,
      "metadata": {
        "colab": {
          "base_uri": "https://localhost:8080/"
        },
        "id": "VlMecpPxM7qF",
        "outputId": "d4afba4e-76cd-43b6-fc66-a8cf9180a893"
      },
      "outputs": [],
      "source": [
        "extract_dir_11k = \"./11k_hands\"\n",
        "with zipfile.ZipFile(output_11k_images, 'r') as zip_ref:\n",
        "    zip_ref.extractall(extract_dir_11k)\n",
        "print(f\"Extracted 11k Hands images to {extract_dir_11k}\")\n",
        "os.remove(output_11k_images)"
      ]
    },
    {
      "cell_type": "code",
      "execution_count": null,
      "metadata": {
        "colab": {
          "base_uri": "https://localhost:8080/"
        },
        "id": "p_U5wHjmM9tu",
        "outputId": "ada8003f-cde7-4a09-a2b8-7854c545463b"
      },
      "outputs": [],
      "source": [
        "url_11k_csv = \"https://drive.google.com/uc?id=1RC86-rVOR8c93XAfM9b9R45L7C2B0FdA\"\n",
        "output_11k_csv = \"./11k_hands/HandInfo.csv\"\n",
        "gdown.download(url_11k_csv, output_11k_csv, quiet=False)"
      ]
    },
    {
      "cell_type": "code",
      "execution_count": null,
      "metadata": {
        "colab": {
          "base_uri": "https://localhost:8080/"
        },
        "id": "WeG5oUXsNAMC",
        "outputId": "dee2e67b-3327-4457-8c7d-ba3cb1e429c7"
      },
      "outputs": [],
      "source": [
        "# Load Hugging Face token from environment variable\n",
        "hf_token = os.getenv('HUGGINGFACE_TOKEN')\n",
        "if not hf_token:\n",
        "    print(\"No HUGGINGFACE_TOKEN environment variable found. Skipping HaGRID test data.\")"
      ]
    },
    {
      "cell_type": "code",
      "execution_count": null,
      "metadata": {
        "colab": {
          "base_uri": "https://localhost:8080/"
        },
        "id": "mOdFco28NBxD",
        "outputId": "8b1f0821-958c-4e48-d373-c585b62573d0"
      },
      "outputs": [],
      "source": [
        "ann_test_path = \"ann_test.json\"\n",
        "if hf_token:\n",
        "    headers = {\"Authorization\": f\"Bearer {hf_token}\"}\n",
        "    ann_test_url = \"https://huggingface.co/datasets/abhishek/hagrid/raw/main/ann_test.json\"\n",
        "    response = requests.get(ann_test_url, headers=headers)\n",
        "    if response.status_code == 200:\n",
        "        # Debug: Print the first 500 characters of the response to check content\n",
        "        print(\"Debug: First 500 characters of ann_test.json response:\")\n",
        "        print(response.text[:500])\n",
        "        if response.text.strip():\n",
        "            with open(ann_test_path, \"w\") as f:\n",
        "                f.write(response.text)\n",
        "            print(\"Downloaded ann_test.json successfully.\")\n",
        "        else:\n",
        "            print(\"Downloaded ann_test.json is empty. Proceeding without HaGRID test data.\")\n",
        "            ann_test_path = None\n",
        "    else:\n",
        "        print(f\"Failed to download ann_test.json (status: {response.status_code}). Proceeding without HaGRID test data.\")\n",
        "        ann_test_path = None\n",
        "else:\n",
        "    print(\"No token provided. Skipping HaGRID test data.\")\n",
        "    ann_test_path = None"
      ]
    },
    {
      "cell_type": "code",
      "execution_count": null,
      "metadata": {
        "id": "PJfLXQSvNHT-"
      },
      "outputs": [],
      "source": [
        "class GestureDataset(Dataset):\n",
        "    def __init__(self, images, labels, transform=None):\n",
        "        self.images = images\n",
        "        self.labels = labels\n",
        "        self.transform = transform\n",
        "\n",
        "    def __len__(self):\n",
        "        return len(self.images)\n",
        "\n",
        "    def __getitem__(self, idx):\n",
        "        image = self.images[idx]\n",
        "        label = self.labels[idx]\n",
        "        image = torch.tensor(image.transpose((2, 0, 1)), dtype=torch.float32)\n",
        "        if self.transform:\n",
        "            image = self.transform(image)\n",
        "        return image, label"
      ]
    },
    {
      "cell_type": "code",
      "execution_count": null,
      "metadata": {
        "id": "AujUaA9VNKNU"
      },
      "outputs": [],
      "source": [
        "# 4. Define paths and gesture classes\n",
        "DATASETS = {\n",
        "    \"11k_hands\": \"./11k_hands/Hands/\",\n",
        "    \"hagrid_test\": \"./hagrid_test/\"  # Placeholder for manual upload\n",
        "}\n",
        "\n",
        "GESTURE_CLASSES = {\n",
        "    0: \"point_right\",  # 👉 Move to next slide\n",
        "    1: \"point_left\",   # 👈 Move to previous slide\n",
        "    2: \"pointer\",      # ☝️ Display pointer\n",
        "    3: \"palm_out\",     # 🤚 Erase drawing\n",
        "    4: \"stop\",         # ✋ Stop presentation\n",
        "    5: \"open_hand\",    # 🖐️ First slide\n",
        "    6: \"peace\",        # ✌️ Last slide\n",
        "    7: \"draw\",         # ✍️ Draw on screen\n",
        "    8: \"save\",         # 💾 Save slide/drawing\n",
        "    9: \"highlight\"     # 🖌️ Highlight text\n",
        "}\n",
        "\n",
        "hagrid_label_map = {\n",
        "    \"point\": 0,       # point_right\n",
        "    \"palm\": 4,        # stop\n",
        "    \"peace\": 6,       # peace\n",
        "    \"fist\": 8,        # save\n",
        "    \"call\": 3         # palm_out\n",
        "}"
      ]
    }
  ],
  "metadata": {
    "accelerator": "GPU",
    "colab": {
      "gpuType": "T4",
      "provenance": []
    },
    "kernelspec": {
      "display_name": "Python 3",
      "name": "python3"
    },
    "language_info": {
      "name": "python"
    }
  },
  "nbformat": 4,
  "nbformat_minor": 0
}
