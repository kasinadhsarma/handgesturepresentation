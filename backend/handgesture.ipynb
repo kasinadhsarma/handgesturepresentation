{
  "cells": [
    {
      "cell_type": "markdown",
      "metadata": {
        "id": "eBERNSMnuT0A"
      },
      "source": [
        "# Hand Gesture Recognition Model Training\n",
        "\n",
        "This notebook implements a CNN-based hand gesture recognition model using PyTorch. The model is trained on a dataset of hand gesture images to classify different gestures."
      ]
    },
    {
      "cell_type": "markdown",
      "metadata": {
        "id": "ReZ11IPkuT0E"
      },
      "source": [
        "## Import Dependencies"
      ]
    },
    {
      "cell_type": "code",
      "source": [
        "import torch\n",
        "import torch.nn as nn\n",
        "import torch.optim as optim\n",
        "from torch.utils.data import DataLoader, Dataset\n",
        "from torchvision import transforms\n",
        "from PIL import Image\n",
        "import os\n",
        "import numpy as np\n",
        "import matplotlib.pyplot as plt"
      ],
      "metadata": {
        "id": "1HP-XvB6wL3F"
      },
      "execution_count": 1,
      "outputs": []
    },
    {
      "cell_type": "markdown",
      "source": [
        "## kaggle dataset"
      ],
      "metadata": {
        "id": "a4IOdguluuEW"
      }
    },
    {
      "cell_type": "code",
      "source": [
        "# Upload Kaggle API key (get from Kaggle account settings)\n",
        "from google.colab import files\n",
        "files.upload()  # Upload your kaggle.json file here\n",
        "\n",
        "# Configure Kaggle API\n",
        "!mkdir -p ~/.kaggle\n",
        "!mv kaggle.json ~/.kaggle/\n",
        "!chmod 600 ~/.kaggle/kaggle.json\n",
        "\n",
        "# Download and unzip the dataset\n",
        "!kaggle datasets download -d aryarishabh/hand-gesture-recognition-dataset\n",
        "!unzip -q hand-gesture-recognition-dataset.zip -d hand_gesture_dataset\n",
        "\n",
        "# Set data directory\n",
        "DATA_DIR = \"hand_gesture_dataset/train/train\"\n",
        "TEST_DIR = \"hand_gesture_dataset/test/test\""
      ],
      "metadata": {
        "colab": {
          "base_uri": "https://localhost:8080/",
          "height": 160
        },
        "id": "pwTfAw1iuiio",
        "outputId": "3730c29c-5d3d-4dcd-b188-17a5874e844e"
      },
      "execution_count": 2,
      "outputs": [
        {
          "output_type": "display_data",
          "data": {
            "text/plain": [
              "<IPython.core.display.HTML object>"
            ],
            "text/html": [
              "\n",
              "     <input type=\"file\" id=\"files-8b3f2d3f-e0fb-4311-b7f3-a68469a7dfec\" name=\"files[]\" multiple disabled\n",
              "        style=\"border:none\" />\n",
              "     <output id=\"result-8b3f2d3f-e0fb-4311-b7f3-a68469a7dfec\">\n",
              "      Upload widget is only available when the cell has been executed in the\n",
              "      current browser session. Please rerun this cell to enable.\n",
              "      </output>\n",
              "      <script>// Copyright 2017 Google LLC\n",
              "//\n",
              "// Licensed under the Apache License, Version 2.0 (the \"License\");\n",
              "// you may not use this file except in compliance with the License.\n",
              "// You may obtain a copy of the License at\n",
              "//\n",
              "//      http://www.apache.org/licenses/LICENSE-2.0\n",
              "//\n",
              "// Unless required by applicable law or agreed to in writing, software\n",
              "// distributed under the License is distributed on an \"AS IS\" BASIS,\n",
              "// WITHOUT WARRANTIES OR CONDITIONS OF ANY KIND, either express or implied.\n",
              "// See the License for the specific language governing permissions and\n",
              "// limitations under the License.\n",
              "\n",
              "/**\n",
              " * @fileoverview Helpers for google.colab Python module.\n",
              " */\n",
              "(function(scope) {\n",
              "function span(text, styleAttributes = {}) {\n",
              "  const element = document.createElement('span');\n",
              "  element.textContent = text;\n",
              "  for (const key of Object.keys(styleAttributes)) {\n",
              "    element.style[key] = styleAttributes[key];\n",
              "  }\n",
              "  return element;\n",
              "}\n",
              "\n",
              "// Max number of bytes which will be uploaded at a time.\n",
              "const MAX_PAYLOAD_SIZE = 100 * 1024;\n",
              "\n",
              "function _uploadFiles(inputId, outputId) {\n",
              "  const steps = uploadFilesStep(inputId, outputId);\n",
              "  const outputElement = document.getElementById(outputId);\n",
              "  // Cache steps on the outputElement to make it available for the next call\n",
              "  // to uploadFilesContinue from Python.\n",
              "  outputElement.steps = steps;\n",
              "\n",
              "  return _uploadFilesContinue(outputId);\n",
              "}\n",
              "\n",
              "// This is roughly an async generator (not supported in the browser yet),\n",
              "// where there are multiple asynchronous steps and the Python side is going\n",
              "// to poll for completion of each step.\n",
              "// This uses a Promise to block the python side on completion of each step,\n",
              "// then passes the result of the previous step as the input to the next step.\n",
              "function _uploadFilesContinue(outputId) {\n",
              "  const outputElement = document.getElementById(outputId);\n",
              "  const steps = outputElement.steps;\n",
              "\n",
              "  const next = steps.next(outputElement.lastPromiseValue);\n",
              "  return Promise.resolve(next.value.promise).then((value) => {\n",
              "    // Cache the last promise value to make it available to the next\n",
              "    // step of the generator.\n",
              "    outputElement.lastPromiseValue = value;\n",
              "    return next.value.response;\n",
              "  });\n",
              "}\n",
              "\n",
              "/**\n",
              " * Generator function which is called between each async step of the upload\n",
              " * process.\n",
              " * @param {string} inputId Element ID of the input file picker element.\n",
              " * @param {string} outputId Element ID of the output display.\n",
              " * @return {!Iterable<!Object>} Iterable of next steps.\n",
              " */\n",
              "function* uploadFilesStep(inputId, outputId) {\n",
              "  const inputElement = document.getElementById(inputId);\n",
              "  inputElement.disabled = false;\n",
              "\n",
              "  const outputElement = document.getElementById(outputId);\n",
              "  outputElement.innerHTML = '';\n",
              "\n",
              "  const pickedPromise = new Promise((resolve) => {\n",
              "    inputElement.addEventListener('change', (e) => {\n",
              "      resolve(e.target.files);\n",
              "    });\n",
              "  });\n",
              "\n",
              "  const cancel = document.createElement('button');\n",
              "  inputElement.parentElement.appendChild(cancel);\n",
              "  cancel.textContent = 'Cancel upload';\n",
              "  const cancelPromise = new Promise((resolve) => {\n",
              "    cancel.onclick = () => {\n",
              "      resolve(null);\n",
              "    };\n",
              "  });\n",
              "\n",
              "  // Wait for the user to pick the files.\n",
              "  const files = yield {\n",
              "    promise: Promise.race([pickedPromise, cancelPromise]),\n",
              "    response: {\n",
              "      action: 'starting',\n",
              "    }\n",
              "  };\n",
              "\n",
              "  cancel.remove();\n",
              "\n",
              "  // Disable the input element since further picks are not allowed.\n",
              "  inputElement.disabled = true;\n",
              "\n",
              "  if (!files) {\n",
              "    return {\n",
              "      response: {\n",
              "        action: 'complete',\n",
              "      }\n",
              "    };\n",
              "  }\n",
              "\n",
              "  for (const file of files) {\n",
              "    const li = document.createElement('li');\n",
              "    li.append(span(file.name, {fontWeight: 'bold'}));\n",
              "    li.append(span(\n",
              "        `(${file.type || 'n/a'}) - ${file.size} bytes, ` +\n",
              "        `last modified: ${\n",
              "            file.lastModifiedDate ? file.lastModifiedDate.toLocaleDateString() :\n",
              "                                    'n/a'} - `));\n",
              "    const percent = span('0% done');\n",
              "    li.appendChild(percent);\n",
              "\n",
              "    outputElement.appendChild(li);\n",
              "\n",
              "    const fileDataPromise = new Promise((resolve) => {\n",
              "      const reader = new FileReader();\n",
              "      reader.onload = (e) => {\n",
              "        resolve(e.target.result);\n",
              "      };\n",
              "      reader.readAsArrayBuffer(file);\n",
              "    });\n",
              "    // Wait for the data to be ready.\n",
              "    let fileData = yield {\n",
              "      promise: fileDataPromise,\n",
              "      response: {\n",
              "        action: 'continue',\n",
              "      }\n",
              "    };\n",
              "\n",
              "    // Use a chunked sending to avoid message size limits. See b/62115660.\n",
              "    let position = 0;\n",
              "    do {\n",
              "      const length = Math.min(fileData.byteLength - position, MAX_PAYLOAD_SIZE);\n",
              "      const chunk = new Uint8Array(fileData, position, length);\n",
              "      position += length;\n",
              "\n",
              "      const base64 = btoa(String.fromCharCode.apply(null, chunk));\n",
              "      yield {\n",
              "        response: {\n",
              "          action: 'append',\n",
              "          file: file.name,\n",
              "          data: base64,\n",
              "        },\n",
              "      };\n",
              "\n",
              "      let percentDone = fileData.byteLength === 0 ?\n",
              "          100 :\n",
              "          Math.round((position / fileData.byteLength) * 100);\n",
              "      percent.textContent = `${percentDone}% done`;\n",
              "\n",
              "    } while (position < fileData.byteLength);\n",
              "  }\n",
              "\n",
              "  // All done.\n",
              "  yield {\n",
              "    response: {\n",
              "      action: 'complete',\n",
              "    }\n",
              "  };\n",
              "}\n",
              "\n",
              "scope.google = scope.google || {};\n",
              "scope.google.colab = scope.google.colab || {};\n",
              "scope.google.colab._files = {\n",
              "  _uploadFiles,\n",
              "  _uploadFilesContinue,\n",
              "};\n",
              "})(self);\n",
              "</script> "
            ]
          },
          "metadata": {}
        },
        {
          "output_type": "stream",
          "name": "stdout",
          "text": [
            "mv: cannot stat 'kaggle.json': No such file or directory\n",
            "chmod: cannot access '/root/.kaggle/kaggle.json': No such file or directory\n",
            "Dataset URL: https://www.kaggle.com/datasets/aryarishabh/hand-gesture-recognition-dataset\n",
            "License(s): CC0-1.0\n",
            "Downloading hand-gesture-recognition-dataset.zip to /content\n",
            " 98% 37.0M/37.6M [00:02<00:00, 22.2MB/s]\n",
            "100% 37.6M/37.6M [00:02<00:00, 14.1MB/s]\n"
          ]
        }
      ]
    },
    {
      "cell_type": "markdown",
      "metadata": {
        "id": "W0mUm0BruT0G"
      },
      "source": [
        "## Dataset Configuration\n",
        "\n",
        "Set up paths and define the custom dataset class for loading hand gesture images."
      ]
    },
    {
      "cell_type": "code",
      "execution_count": 3,
      "metadata": {
        "id": "jHBOTRJUuT0H"
      },
      "source": [
        "# Set data directories - update these paths based on your local setup\n",
        "# DATA_DIR = \"./train\"\n",
        "# TEST_DIR = \"./test\"\n",
        "DATA_DIR = \"hand_gesture_dataset/train/train\"  # Updated to the correct path\n",
        "TEST_DIR = \"hand_gesture_dataset/test/test\"  # Updated to the correct path\n",
        "\n",
        "class HandGestureDataset(Dataset):\n",
        "    def __init__(self, data_dir, transform=None):\n",
        "        self.data_dir = data_dir\n",
        "        self.transform = transform\n",
        "        self.images = []\n",
        "        self.labels = []\n",
        "        self.class_names = sorted(os.listdir(data_dir))\n",
        "        self.label_map = {name: idx for idx, name in enumerate(self.class_names)}\n",
        "\n",
        "        # Print dataset info\n",
        "        print(f\"Detected classes in {data_dir}: {self.class_names}\")\n",
        "        print(f\"Total number of classes: {len(self.class_names)}\")\n",
        "\n",
        "        # Load images and labels\n",
        "        for class_name in self.class_names:\n",
        "            class_dir = os.path.join(data_dir, class_name)\n",
        "            if not os.path.isdir(class_dir):\n",
        "                print(f\"Warning: {class_dir} is not a directory - skipping\")\n",
        "                continue\n",
        "\n",
        "            img_files = [f for f in os.listdir(class_dir) if f.endswith(('.jpg', '.png', '.jpeg'))]\n",
        "            print(f\"Class {class_name} (Label {self.label_map[class_name]}): {len(img_files)} images\")\n",
        "\n",
        "            for img_name in img_files:\n",
        "                self.images.append(os.path.join(class_dir, img_name))\n",
        "                self.labels.append(self.label_map[class_name])\n",
        "\n",
        "        # Print class distribution\n",
        "        print(f\"Label distribution: {np.bincount(self.labels)}\")\n",
        "\n",
        "    def __len__(self):\n",
        "        return len(self.images)\n",
        "\n",
        "    def __getitem__(self, idx):\n",
        "        img_path = self.images[idx]\n",
        "        label = self.labels[idx]\n",
        "        image = Image.open(img_path).convert(\"RGB\")\n",
        "\n",
        "        if self.transform:\n",
        "            image = self.transform(image)\n",
        "\n",
        "        return image, label"
      ],
      "outputs": []
    },
    {
      "cell_type": "markdown",
      "metadata": {
        "id": "a4hhhpZHuT0I"
      },
      "source": [
        "## Data Preprocessing\n",
        "\n",
        "Define image transformations and create data loaders."
      ]
    },
    {
      "cell_type": "code",
      "execution_count": 4,
      "metadata": {
        "colab": {
          "base_uri": "https://localhost:8080/"
        },
        "id": "ySixZGO4uT0I",
        "outputId": "de6096ad-3595-4b16-bd35-fb7845d670b8"
      },
      "source": [
        "# Image transformations\n",
        "IMG_SIZE = (64, 64)\n",
        "transform = transforms.Compose([\n",
        "    transforms.Resize(IMG_SIZE),\n",
        "    transforms.RandomHorizontalFlip(),\n",
        "    transforms.ToTensor(),\n",
        "    transforms.Normalize(mean=[0.485, 0.456, 0.406], std=[0.229, 0.224, 0.225])\n",
        "])\n",
        "\n",
        "# Create datasets\n",
        "train_dataset = HandGestureDataset(DATA_DIR, transform=transform)\n",
        "val_dataset = HandGestureDataset(TEST_DIR, transform=transform)\n",
        "\n",
        "# Create data loaders\n",
        "train_loader = DataLoader(train_dataset, batch_size=32, shuffle=True, num_workers=2)\n",
        "val_loader = DataLoader(val_dataset, batch_size=32, shuffle=False, num_workers=2)\n",
        "\n",
        "print(f\"Training samples: {len(train_dataset)}\")\n",
        "print(f\"Validation samples: {len(val_dataset)}\")"
      ],
      "outputs": [
        {
          "output_type": "stream",
          "name": "stdout",
          "text": [
            "Detected classes in hand_gesture_dataset/train/train: ['0', '1', '10', '11', '12', '13', '14', '15', '16', '17', '18', '19', '2', '3', '4', '5', '6', '7', '8', '9']\n",
            "Total number of classes: 20\n",
            "Class 0 (Label 0): 900 images\n",
            "Class 1 (Label 1): 900 images\n",
            "Class 10 (Label 2): 900 images\n",
            "Class 11 (Label 3): 900 images\n",
            "Class 12 (Label 4): 900 images\n",
            "Class 13 (Label 5): 900 images\n",
            "Class 14 (Label 6): 900 images\n",
            "Class 15 (Label 7): 900 images\n",
            "Class 16 (Label 8): 900 images\n",
            "Class 17 (Label 9): 900 images\n",
            "Class 18 (Label 10): 900 images\n",
            "Class 19 (Label 11): 900 images\n",
            "Class 2 (Label 12): 900 images\n",
            "Class 3 (Label 13): 900 images\n",
            "Class 4 (Label 14): 900 images\n",
            "Class 5 (Label 15): 900 images\n",
            "Class 6 (Label 16): 900 images\n",
            "Class 7 (Label 17): 900 images\n",
            "Class 8 (Label 18): 900 images\n",
            "Class 9 (Label 19): 900 images\n",
            "Label distribution: [900 900 900 900 900 900 900 900 900 900 900 900 900 900 900 900 900 900\n",
            " 900 900]\n",
            "Detected classes in hand_gesture_dataset/test/test: ['0', '1', '10', '11', '12', '13', '14', '15', '16', '17', '18', '19', '2', '3', '4', '5', '6', '7', '8', '9']\n",
            "Total number of classes: 20\n",
            "Class 0 (Label 0): 300 images\n",
            "Class 1 (Label 1): 300 images\n",
            "Class 10 (Label 2): 300 images\n",
            "Class 11 (Label 3): 300 images\n",
            "Class 12 (Label 4): 300 images\n",
            "Class 13 (Label 5): 300 images\n",
            "Class 14 (Label 6): 300 images\n",
            "Class 15 (Label 7): 300 images\n",
            "Class 16 (Label 8): 300 images\n",
            "Class 17 (Label 9): 300 images\n",
            "Class 18 (Label 10): 300 images\n",
            "Class 19 (Label 11): 300 images\n",
            "Class 2 (Label 12): 300 images\n",
            "Class 3 (Label 13): 300 images\n",
            "Class 4 (Label 14): 300 images\n",
            "Class 5 (Label 15): 300 images\n",
            "Class 6 (Label 16): 300 images\n",
            "Class 7 (Label 17): 300 images\n",
            "Class 8 (Label 18): 300 images\n",
            "Class 9 (Label 19): 300 images\n",
            "Label distribution: [300 300 300 300 300 300 300 300 300 300 300 300 300 300 300 300 300 300\n",
            " 300 300]\n",
            "Training samples: 18000\n",
            "Validation samples: 6000\n"
          ]
        }
      ]
    },
    {
      "cell_type": "markdown",
      "metadata": {
        "id": "EsgQpOzWuT0J"
      },
      "source": [
        "## Model Definition"
      ]
    },
    {
      "cell_type": "code",
      "execution_count": 5,
      "metadata": {
        "colab": {
          "base_uri": "https://localhost:8080/"
        },
        "id": "AZvDdZh9uT0J",
        "outputId": "91ec0498-89a0-45f9-a812-c462148af162"
      },
      "source": [
        "class GestureCNN(nn.Module):\n",
        "    def __init__(self, num_classes):\n",
        "        super(GestureCNN, self).__init__()\n",
        "\n",
        "        # Convolutional layers\n",
        "        self.conv1 = nn.Conv2d(3, 32, kernel_size=3, padding=1)\n",
        "        self.conv2 = nn.Conv2d(32, 64, kernel_size=3, padding=1)\n",
        "        self.conv3 = nn.Conv2d(64, 128, kernel_size=3, padding=1)\n",
        "\n",
        "        # Batch normalization\n",
        "        self.batch_norm1 = nn.BatchNorm2d(32)\n",
        "        self.batch_norm2 = nn.BatchNorm2d(64)\n",
        "        self.batch_norm3 = nn.BatchNorm2d(128)\n",
        "\n",
        "        # Pooling and activation\n",
        "        self.pool = nn.MaxPool2d(2, 2)\n",
        "        self.relu = nn.ReLU()\n",
        "        self.dropout = nn.Dropout(0.5)\n",
        "\n",
        "        # Fully connected layers\n",
        "        self.fc1 = nn.Linear(128 * 8 * 8, 512)\n",
        "        self.fc2 = nn.Linear(512, num_classes)\n",
        "\n",
        "    def forward(self, x):\n",
        "        x = self.pool(self.relu(self.batch_norm1(self.conv1(x))))\n",
        "        x = self.pool(self.relu(self.batch_norm2(self.conv2(x))))\n",
        "        x = self.pool(self.relu(self.batch_norm3(self.conv3(x))))\n",
        "        x = x.view(-1, 128 * 8 * 8)\n",
        "        x = self.dropout(self.relu(self.fc1(x)))\n",
        "        x = self.fc2(x)\n",
        "        return x\n",
        "\n",
        "# Initialize model\n",
        "num_classes = len(train_dataset.class_names)\n",
        "model = GestureCNN(num_classes)\n",
        "device = torch.device(\"cuda\" if torch.cuda.is_available() else \"cpu\")\n",
        "model = model.to(device)\n",
        "print(f\"Model running on: {device}\")"
      ],
      "outputs": [
        {
          "output_type": "stream",
          "name": "stdout",
          "text": [
            "Model running on: cuda\n"
          ]
        }
      ]
    },
    {
      "cell_type": "markdown",
      "metadata": {
        "id": "DFf7m9x4uT0K"
      },
      "source": [
        "## Training Loop"
      ]
    },
    {
      "cell_type": "code",
      "execution_count": 6,
      "metadata": {
        "colab": {
          "base_uri": "https://localhost:8080/"
        },
        "id": "RwjPzndcuT0K",
        "outputId": "df9b5f4b-f9ff-4140-bd85-50f7c48d86ed"
      },
      "source": [
        "def train_model(model, train_loader, val_loader, num_epochs=20):\n",
        "    criterion = nn.CrossEntropyLoss()\n",
        "    optimizer = optim.Adam(model.parameters(), lr=0.001)\n",
        "\n",
        "    train_losses = []\n",
        "    val_losses = []\n",
        "    val_accuracies = []\n",
        "    best_acc = 0.0\n",
        "\n",
        "    for epoch in range(num_epochs):\n",
        "        # Training phase\n",
        "        model.train()\n",
        "        running_loss = 0.0\n",
        "\n",
        "        for images, labels in train_loader:\n",
        "            images, labels = images.to(device), labels.to(device)\n",
        "            optimizer.zero_grad()\n",
        "            outputs = model(images)\n",
        "            loss = criterion(outputs, labels)\n",
        "            loss.backward()\n",
        "            optimizer.step()\n",
        "            running_loss += loss.item()\n",
        "\n",
        "        train_loss = running_loss / len(train_loader)\n",
        "        train_losses.append(train_loss)\n",
        "\n",
        "        # Validation phase\n",
        "        model.eval()\n",
        "        val_loss = 0.0\n",
        "        correct = 0\n",
        "        total = 0\n",
        "\n",
        "        with torch.no_grad():\n",
        "            for images, labels in val_loader:\n",
        "                images, labels = images.to(device), labels.to(device)\n",
        "                outputs = model(images)\n",
        "                loss = criterion(outputs, labels)\n",
        "                val_loss += loss.item()\n",
        "                _, predicted = torch.max(outputs.data, 1)\n",
        "                total += labels.size(0)\n",
        "                correct += (predicted == labels).sum().item()\n",
        "\n",
        "        val_loss = val_loss / len(val_loader)\n",
        "        val_acc = 100 * correct / total\n",
        "        val_losses.append(val_loss)\n",
        "        val_accuracies.append(val_acc)\n",
        "\n",
        "        print(f\"Epoch [{epoch+1}/{num_epochs}]\")\n",
        "        print(f\"Train Loss: {train_loss:.4f}, Val Loss: {val_loss:.4f}, Val Accuracy: {val_acc:.2f}%\")\n",
        "\n",
        "        # Save best model\n",
        "        if val_acc > best_acc:\n",
        "            best_acc = val_acc\n",
        "            torch.save(model.state_dict(), \"best_cnn_model.pth\")\n",
        "            print(f\"Saved best model with Val Acc: {best_acc:.2f}%\")\n",
        "\n",
        "    return train_losses, val_losses, val_accuracies\n",
        "\n",
        "# Train the model\n",
        "train_losses, val_losses, val_accuracies = train_model(model, train_loader, val_loader)"
      ],
      "outputs": [
        {
          "output_type": "stream",
          "name": "stdout",
          "text": [
            "Epoch [1/20]\n",
            "Train Loss: 0.1583, Val Loss: 0.0103, Val Accuracy: 99.90%\n",
            "Saved best model with Val Acc: 99.90%\n",
            "Epoch [2/20]\n",
            "Train Loss: 0.0173, Val Loss: 0.0485, Val Accuracy: 99.03%\n",
            "Epoch [3/20]\n",
            "Train Loss: 0.0359, Val Loss: 0.0354, Val Accuracy: 99.32%\n",
            "Epoch [4/20]\n",
            "Train Loss: 0.0123, Val Loss: 0.0125, Val Accuracy: 99.87%\n",
            "Epoch [5/20]\n",
            "Train Loss: 0.0140, Val Loss: 0.0203, Val Accuracy: 99.67%\n",
            "Epoch [6/20]\n",
            "Train Loss: 0.0054, Val Loss: 0.0247, Val Accuracy: 99.77%\n",
            "Epoch [7/20]\n",
            "Train Loss: 0.0101, Val Loss: 0.0248, Val Accuracy: 99.57%\n",
            "Epoch [8/20]\n",
            "Train Loss: 0.0031, Val Loss: 0.0216, Val Accuracy: 99.77%\n",
            "Epoch [9/20]\n",
            "Train Loss: 0.0032, Val Loss: 0.0183, Val Accuracy: 99.95%\n",
            "Saved best model with Val Acc: 99.95%\n",
            "Epoch [10/20]\n",
            "Train Loss: 0.0081, Val Loss: 0.0197, Val Accuracy: 99.85%\n",
            "Epoch [11/20]\n",
            "Train Loss: 0.0101, Val Loss: 0.0210, Val Accuracy: 99.75%\n",
            "Epoch [12/20]\n",
            "Train Loss: 0.0042, Val Loss: 0.0094, Val Accuracy: 99.92%\n",
            "Epoch [13/20]\n",
            "Train Loss: 0.0032, Val Loss: 0.0116, Val Accuracy: 99.85%\n",
            "Epoch [14/20]\n",
            "Train Loss: 0.0022, Val Loss: 0.0147, Val Accuracy: 99.90%\n",
            "Epoch [15/20]\n",
            "Train Loss: 0.0014, Val Loss: 0.0312, Val Accuracy: 99.82%\n",
            "Epoch [16/20]\n",
            "Train Loss: 0.0049, Val Loss: 0.0240, Val Accuracy: 99.75%\n",
            "Epoch [17/20]\n",
            "Train Loss: 0.0036, Val Loss: 0.0115, Val Accuracy: 99.90%\n",
            "Epoch [18/20]\n",
            "Train Loss: 0.0013, Val Loss: 0.0108, Val Accuracy: 99.95%\n",
            "Epoch [19/20]\n",
            "Train Loss: 0.0016, Val Loss: 0.0200, Val Accuracy: 99.88%\n",
            "Epoch [20/20]\n",
            "Train Loss: 0.0009, Val Loss: 0.0204, Val Accuracy: 99.85%\n"
          ]
        }
      ]
    },
    {
      "cell_type": "markdown",
      "metadata": {
        "id": "7YO6CXHDuT0L"
      },
      "source": [
        "## Visualize Training Results"
      ]
    },
    {
      "cell_type": "code",
      "execution_count": 7,
      "metadata": {
        "colab": {
          "base_uri": "https://localhost:8080/",
          "height": 315
        },
        "id": "_fy1ql3LuT0L",
        "outputId": "400d9e62-5aac-4860-c903-41429910e2a9"
      },
      "source": [
        "plt.figure(figsize=(12, 4))\n",
        "\n",
        "# Plot losses\n",
        "plt.subplot(1, 2, 1)\n",
        "plt.plot(train_losses, label=\"Train Loss\")\n",
        "plt.plot(val_losses, label=\"Val Loss\")\n",
        "plt.xlabel(\"Epoch\")\n",
        "plt.ylabel(\"Loss\")\n",
        "plt.legend()\n",
        "plt.title(\"Training and Validation Loss\")\n",
        "\n",
        "# Plot accuracy\n",
        "plt.subplot(1, 2, 2)\n",
        "plt.plot(val_accuracies, label=\"Validation Accuracy\")\n",
        "plt.xlabel(\"Epoch\")\n",
        "plt.ylabel(\"Accuracy (%)\")\n",
        "plt.legend()\n",
        "plt.title(\"Validation Accuracy\")\n",
        "\n",
        "plt.tight_layout()\n",
        "plt.savefig(\"training_results.png\")\n",
        "plt.show()"
      ],
      "outputs": [
        {
          "output_type": "display_data",
          "data": {
            "text/plain": [
              "<Figure size 1200x400 with 2 Axes>"
            ],
            "image/png": "[encoded data removed]"
          },
          "metadata": {}
        }
      ]
    },
    {
      "cell_type": "markdown",
      "metadata": {
        "id": "DUk5izoFuT0L"
      },
      "source": [
        "## Model Inference"
      ]
    },
    {
      "cell_type": "code",
      "execution_count": 8,
      "metadata": {
        "colab": {
          "base_uri": "https://localhost:8080/",
          "height": 1000
        },
        "id": "X0Cyw2fNuT0M",
        "outputId": "292ed52a-c3ae-4b75-d2db-f7c4b566475b"
      },
      "source": [
        "def predict_gesture(model, image_path, transform):\n",
        "    \"\"\"Predict the gesture class for a given image\"\"\"\n",
        "    model.eval()\n",
        "    image = Image.open(image_path).convert(\"RGB\")\n",
        "    input_tensor = transform(image).unsqueeze(0).to(device)\n",
        "\n",
        "    with torch.no_grad():\n",
        "        output = model(input_tensor)\n",
        "        predicted_class = torch.argmax(output, dim=1).item()\n",
        "\n",
        "    return predicted_class\n",
        "\n",
        "# Test prediction on sample images\n",
        "for class_name in sorted(os.listdir(TEST_DIR))[:3]:\n",
        "    class_dir = os.path.join(TEST_DIR, class_name)\n",
        "    if os.path.isdir(class_dir):\n",
        "        sample_image = os.path.join(class_dir, os.listdir(class_dir)[0])\n",
        "        predicted_class = predict_gesture(model, sample_image, transform)\n",
        "\n",
        "        plt.figure()\n",
        "        plt.imshow(Image.open(sample_image))\n",
        "        plt.title(f\"True: {class_name}, Predicted: {predicted_class}\")\n",
        "        plt.axis(\"off\")\n",
        "        plt.show()"
      ],
      "outputs": [
        {
          "output_type": "display_data",
          "data": {
            "text/plain": [
              "<Figure size 640x480 with 1 Axes>"
            ],
            "image/png": "[encoded data removed]"
          },
          "metadata": {}
        },
        {
          "output_type": "display_data",
          "data": {
            "text/plain": [
              "<Figure size 640x480 with 1 Axes>"
            ],
            "image/png": "[encoded data removed]"
          },
          "metadata": {}
        },
        {
          "output_type": "display_data",
          "data": {
            "text/plain": [
              "<Figure size 640x480 with 1 Axes>"
            ],
            "image/png": "[encoded data removed]"
          },
          "metadata": {}
        }
      ]
    },
    {
      "cell_type": "markdown",
      "source": [
        "## save model\n"
      ],
      "metadata": {
        "id": "tO4e0UZgxghu"
      }
    },
    {
      "cell_type": "code",
      "source": [
        "# Ensure best model is saved\n",
        "if os.path.exists(\"best_cnn_model.pth\"):\n",
        "    print(\"Best model saved as 'best_cnn_model.pth'\")\n",
        "    files.download(\"best_cnn_model.pth\")  # Download in Colab\n",
        "else:\n",
        "    torch.save(model.state_dict(), \"best_cnn_model.pth\")\n",
        "    files.download(\"best_cnn_model.pth\")"
      ],
      "metadata": {
        "colab": {
          "base_uri": "https://localhost:8080/",
          "height": 34
        },
        "id": "lZIlNH0lxkpz",
        "outputId": "de261c55-2ace-4cd0-f512-5648ca3daa5d"
      },
      "execution_count": 9,
      "outputs": [
        {
          "output_type": "stream",
          "name": "stdout",
          "text": [
            "Best model saved as 'best_cnn_model.pth'\n"
          ]
        },
        {
          "output_type": "display_data",
          "data": {
            "text/plain": [
              "<IPython.core.display.Javascript object>"
            ],
            "application/javascript": [
              "\n",
              "    async function download(id, filename, size) {\n",
              "      if (!google.colab.kernel.accessAllowed) {\n",
              "        return;\n",
              "      }\n",
              "      const div = document.createElement('div');\n",
              "      const label = document.createElement('label');\n",
              "      label.textContent = `Downloading \"${filename}\": `;\n",
              "      div.appendChild(label);\n",
              "      const progress = document.createElement('progress');\n",
              "      progress.max = size;\n",
              "      div.appendChild(progress);\n",
              "      document.body.appendChild(div);\n",
              "\n",
              "      const buffers = [];\n",
              "      let downloaded = 0;\n",
              "\n",
              "      const channel = await google.colab.kernel.comms.open(id);\n",
              "      // Send a message to notify the kernel that we're ready.\n",
              "      channel.send({})\n",
              "\n",
              "      for await (const message of channel.messages) {\n",
              "        // Send a message to notify the kernel that we're ready.\n",
              "        channel.send({})\n",
              "        if (message.buffers) {\n",
              "          for (const buffer of message.buffers) {\n",
              "            buffers.push(buffer);\n",
              "            downloaded += buffer.byteLength;\n",
              "            progress.value = downloaded;\n",
              "          }\n",
              "        }\n",
              "      }\n",
              "      const blob = new Blob(buffers, {type: 'application/binary'});\n",
              "      const a = document.createElement('a');\n",
              "      a.href = window.URL.createObjectURL(blob);\n",
              "      a.download = filename;\n",
              "      div.appendChild(a);\n",
              "      a.click();\n",
              "      div.remove();\n",
              "    }\n",
              "  "
            ]
          },
          "metadata": {}
        },
        {
          "output_type": "display_data",
          "data": {
            "text/plain": [
              "<IPython.core.display.Javascript object>"
            ],
            "application/javascript": [
              "download(\"download_4318ecd2-eab7-4e61-be2a-c22695d5bfad\", \"best_cnn_model.pth\", 17205206)"
            ]
          },
          "metadata": {}
        }
      ]
    }
  ],
  "metadata": {
    "kernelspec": {
      "display_name": "Python 3",
      "name": "python3"
    },
    "language_info": {
      "codemirror_mode": {
        "name": "ipython",
        "version": 3
      },
      "file_extension": ".py",
      "mimetype": "text/x-python",
      "name": "python",
      "nbconvert_exporter": "python",
      "pygments_lexer": "ipython3",
      "version": "3.8.0"
    },
    "colab": {
      "provenance": [],
      "gpuType": "T4"
    },
    "accelerator": "GPU"
  },
  "nbformat": 4,
  "nbformat_minor": 0
}